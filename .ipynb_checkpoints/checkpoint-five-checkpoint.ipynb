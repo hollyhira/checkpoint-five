{
 "cells": [
  {
   "cell_type": "markdown",
   "metadata": {
    "azdata_cell_guid": "c9a57f69-e372-43d2-94fc-ab1a9097069f"
   },
   "source": [
    "# Checkpoint Five: Modeling Data\n",
    "\n",
    "With your visualizations ready to go, the final step in your project is to do some predictive analysis on your dataset. You will be using linear regression for your model. You will not be penalized if your linear regression model does not work out. You just need to build the model and make notes as to the results.\n",
    "\n",
    "Link to my dataset:\n",
    "\n",
    "## COVID-19 EDA USING WHO DATA (Sourced June 2022)\n",
    "\n",
    "**VACCINATION RATE VS. DEATH RATES**\n",
    "\n",
    "\n",
    "**My data came directly from the** [WHO CORONAVIRUS DASHBOARD](https://covid19.who.int/data)\n",
    "\n",
    "\n",
    "**Two datasets were used for analysis:**\n",
    "\n",
    "[THE COVID19 GLOBAL TABLE DATA](https://covid19.who.int/WHO-COVID-19-global-table-data.csv)\n",
    "\n",
    "[COVID19 VACCINATION DATA](https://covid19.who.int/who-data/vaccination-data.csv)  \n",
    "\n",
    "\n",
    "<br/><br/>\n",
    "\n",
    "**<font color=darkred> DATA DICTIONARY</FONT>**\n",
    "\n",
    "**Latest reported counts of cases and deaths**\n",
    "\n",
    "Download link: https://covid19.who.int/WHO-COVID-19-global-table-data.csv\n",
    "\n",
    "\n",
    "| Field name                                                   | Type    | Description                                                                                                                                                      |\n",
    "| ------------------------------------------------------------ | ------- | ---------------------------------------------------------------------------------------------------------------------------------------------------------------- |\n",
    "| Name                                                         | String  | Country, territory, area                                                                                                                                         |\n",
    "| WHO\\_region                                                  | String  | WHO Region                                                                                                                                                       |\n",
    "| Cases - cumulative total                                     | Integer | Cumulative confirmed cases reported to WHO to date.                                                                                                              |\n",
    "| Cases - cumulative total per 100000 population               | Decimal | Cumulative confirmed cases reported to WHO to date per 100,000 population.                                                                                       |\n",
    "| Cases - newly reported in last 7 days                        | Integer | New confirmed cases reported in the last 7 days. Calculated by subtracting previous cumulative case count (8 days prior) from current cumulative cases count.    |\n",
    "| Cases - newly reported in last 7 days per 100000 population  | Decimal | New confirmed cases reported in the last 7 days per 100,000 population.                                                                                          |\n",
    "| Cases - newly reported in last 24 hours                      | Integer | New confirmed cases reported in the last 24 hours. Calculated by subtracting previous cumulative case count from current cumulative cases count.                 |\n",
    "| Deaths - cumulative total                                    | Integer | Cumulative confirmed deaths reported to WHO to date.                                                                                                             |\n",
    "| Deaths - cumulative total per 100000 population              | Decimal | Cumulative confirmed deaths reported to WHO to date per 100,000 population.                                                                                      |\n",
    "| Deaths - newly reported in last 7 days                       | Integer | New confirmed deaths reported in the last 7 days. Calculated by subtracting previous cumulative death count (8 days prior) from current cumulative deaths count. |\n",
    "| Deaths - newly reported in last 7 days per 100000 population | Decimal | New confirmed deaths reported in the last 7 days per 100,000 population.                                                                                         |\n",
    "| Deaths - newly reported in last 24 hours                     | Integer | New confirmed deaths reported in the last 24 hours. Calculated by subtracting previous cumulative death count from current cumulative deaths count.              |\n",
    "\n",
    "\n",
    "<br/><br/>\n",
    "\n",
    "**Vaccination data**\n",
    "\n",
    "Download links: https://covid19.who.int/who-data/vaccination-data.csv\n",
    "\n",
    "\n",
    "\n",
    "\n",
    "| Field name                               | Type    | Description                                                                                                                                                                                                                                                                                                                                     |\n",
    "| ---------------------------------------- | ------- | ----------------------------------------------------------------------------------------------------------------------------------------------------------------------------------------------------------------------------------------------------------------------------------------------------------------------------------------------- |\n",
    "| COUNTRY                                  | String  | Country, territory, area                                                                                                                                                                                                                                                                                                                        |\n",
    "| ISO3                                     | String  | ISO Alpha-3 country code                                                                                                                                                                                                                                                                                                                        |\n",
    "| WHO\\_REGION                              | String  | WHO regional offices: WHO Member States are grouped into six WHO regions: Regional Office for Africa (AFRO), Regional Office for the Americas (AMRO), Regional Office for South-East Asia (SEARO), Regional Office for Europe (EURO), Regional Office for the Eastern Mediterranean (EMRO), and Regional Office for the Western Pacific (WPRO). |\n",
    "| DATA\\_SOURCE                             | String  | Indicates data source: - REPORTING: Data reported by Member States, or sourced from official reports - OWID: Data sourced from Our World in Data: https://ourworldindata.org/covid-vaccinations                                                                                                                                                 |\n",
    "| DATE\\_UPDATED                            | Date    | Date of last update                                                                                                                                                                                                                                                                                                                             |\n",
    "| TOTAL\\_VACCINATIONS                      | Integer | Cumulative total vaccine doses administered                                                                                                                                                                                                                                                                                                     |\n",
    "| PERSONS\\_VACCINATED\\_1PLUS\\_DOSE         | Decimal | Cumulative number of persons vaccinated with at least one dose                                                                                                                                                                                                                                                                                  |\n",
    "| TOTAL\\_VACCINATIONS\\_PER100              | Integer | Cumulative total vaccine doses administered per 100 population                                                                                                                                                                                                                                                                                  |\n",
    "| PERSONS\\_VACCINATED\\_1PLUS\\_DOSE\\_PER100 | Decimal | Cumulative persons vaccinated with at least one dose per 100 population                                                                                                                                                                                                                                                                         |\n",
    "| PERSONS\\_FULLY\\_VACCINATED               | Integer | Cumulative number of persons fully vaccinated                                                                                                                                                                                                                                                                                                   |\n",
    "| PERSONS\\_FULLY\\_VACCINATED\\_PER100       | Decimal | Cumulative number of persons fully vaccinated per 100 population                                                                                                                                                                                                                                                                                |\n",
    "| VACCINES\\_USED                           | String  | Combined short name of vaccine: “Company - Product name” (see below)                                                                                                                                                                                                                                                                            |\n",
    "| FIRST\\_VACCINE\\_DATE                     | Date    | Date of first vaccinations. Equivalent to start/launch date of the first vaccine administered in a country.                                                                                                                                                                                                                                     |\n",
    "| NUMBER\\_VACCINES\\_TYPES\\_USED            | Integer | Number of vaccine types used per country, territory, area                                                                                                                                                                                                                                                                                       |\n",
    "| PERSONS\\_BOOSTER\\_ADD\\_DOSE              | Integer | Persons received booster or additional dose                                                                                                                                                                                                                                                                                                     |\n",
    "| PERSONS\\_BOOSTER\\_ADD\\_DOSE\\_PER100      | Decimal | Persons received booster or additional dose per 100 population                                                                                                                                                                              \n",
    "\n",
    "## Prepare Your Dataframe\n",
    "\n",
    "Import any libraries you need and create a dataframe."
   ]
  },
  {
   "cell_type": "code",
   "execution_count": 1,
   "metadata": {
    "azdata_cell_guid": "f9287db4-8af9-4bce-9a54-ffeeee0e045f"
   },
   "outputs": [],
   "source": [
    "# Importing numpy and pandas libraries to read the data\n",
    "\n",
    "# Supress Warnings\n",
    "import warnings\n",
    "warnings.filterwarnings('ignore')\n",
    "\n",
    "# Import the numpy and pandas package\n",
    "import numpy as np\n",
    "import pandas as pd\n",
    "\n",
    "# Import matplotlib and seaborn libraries to visualize the data\n",
    "import matplotlib.pyplot as plt \n",
    "import seaborn as sns\n",
    "\n",
    "# Splitting the varaibles as training and testing\n",
    "from sklearn.model_selection import train_test_split\n",
    "\n",
    "# Importing Statsmodels.api library from Stamodel package\n",
    "import statsmodels.api as sm\n",
    "\n",
    "# Importing r2_square\n",
    "from sklearn.metrics import r2_score\n",
    "\n",
    "from sklearn.linear_model import LinearRegression\n",
    "\n",
    "\n",
    "from IPython.core.interactiveshell import InteractiveShell\n",
    "InteractiveShell.ast_node_interactivity = 'all'"
   ]
  },
  {
   "cell_type": "code",
   "execution_count": 2,
   "metadata": {},
   "outputs": [],
   "source": [
    "#Import dataframe\n",
    "\n",
    "global_stats=pd.read_csv('globalcovidstats.csv')\n",
    "\n",
    "vaccinations=pd.read_csv('vaccinations.csv')\n",
    "\n",
    "\n",
    "# global_stats.head()\n",
    "# vaccinations.head()"
   ]
  },
  {
   "cell_type": "code",
   "execution_count": 3,
   "metadata": {},
   "outputs": [],
   "source": [
    "vaccinations=vaccinations.dropna(axis='columns')\n",
    "#Keep only columns with no missing data"
   ]
  },
  {
   "cell_type": "code",
   "execution_count": 4,
   "metadata": {},
   "outputs": [
    {
     "name": "stdout",
     "output_type": "stream",
     "text": [
      "<class 'pandas.core.frame.DataFrame'>\n",
      "RangeIndex: 237 entries, 0 to 236\n",
      "Data columns (total 13 columns):\n",
      " #   Column                                                        Non-Null Count  Dtype  \n",
      "---  ------                                                        --------------  -----  \n",
      " 0   Unnamed: 0                                                    237 non-null    int64  \n",
      " 1   COUNTRY                                                       237 non-null    object \n",
      " 2   WHO Region                                                    237 non-null    object \n",
      " 3   Cases - cumulative total                                      237 non-null    int64  \n",
      " 4   Cases - cumulative total per 100000 population                237 non-null    float64\n",
      " 5   Cases - newly reported in last 7 days                         237 non-null    int64  \n",
      " 6   Cases - newly reported in last 7 days per 100000 population   237 non-null    float64\n",
      " 7   Cases - newly reported in last 24 hours                       237 non-null    int64  \n",
      " 8   Deaths - cumulative total                                     237 non-null    int64  \n",
      " 9   Deaths - cumulative total per 100000 population               237 non-null    float64\n",
      " 10  Deaths - newly reported in last 7 days                        237 non-null    int64  \n",
      " 11  Deaths - newly reported in last 7 days per 100000 population  237 non-null    float64\n",
      " 12  Deaths - newly reported in last 24 hours                      237 non-null    int64  \n",
      "dtypes: float64(4), int64(7), object(2)\n",
      "memory usage: 24.2+ KB\n",
      "<class 'pandas.core.frame.DataFrame'>\n",
      "RangeIndex: 228 entries, 0 to 227\n",
      "Data columns (total 9 columns):\n",
      " #   Column                      Non-Null Count  Dtype  \n",
      "---  ------                      --------------  -----  \n",
      " 0   Unnamed: 0                  228 non-null    int64  \n",
      " 1   COUNTRY                     228 non-null    object \n",
      " 2   ISO3                        228 non-null    object \n",
      " 3   WHO_REGION                  228 non-null    object \n",
      " 4   DATE_UPDATED                228 non-null    object \n",
      " 5   TOTAL_VACCINATIONS          228 non-null    int64  \n",
      " 6   TOTAL_VACCINATIONS_PER100   228 non-null    float64\n",
      " 7   VACCINES_USED               228 non-null    object \n",
      " 8   NUMBER_VACCINES_TYPES_USED  228 non-null    float64\n",
      "dtypes: float64(2), int64(2), object(5)\n",
      "memory usage: 16.2+ KB\n"
     ]
    }
   ],
   "source": [
    "global_stats.info()\n",
    "vaccinations.info()"
   ]
  },
  {
   "cell_type": "code",
   "execution_count": 5,
   "metadata": {},
   "outputs": [
    {
     "data": {
      "text/plain": [
       "(237, 13)"
      ]
     },
     "execution_count": 5,
     "metadata": {},
     "output_type": "execute_result"
    },
    {
     "data": {
      "text/plain": [
       "(228, 9)"
      ]
     },
     "execution_count": 5,
     "metadata": {},
     "output_type": "execute_result"
    }
   ],
   "source": [
    "global_stats.shape\n",
    "vaccinations.shape"
   ]
  },
  {
   "cell_type": "code",
   "execution_count": 6,
   "metadata": {},
   "outputs": [
    {
     "data": {
      "text/html": [
       "<div>\n",
       "<style scoped>\n",
       "    .dataframe tbody tr th:only-of-type {\n",
       "        vertical-align: middle;\n",
       "    }\n",
       "\n",
       "    .dataframe tbody tr th {\n",
       "        vertical-align: top;\n",
       "    }\n",
       "\n",
       "    .dataframe thead th {\n",
       "        text-align: right;\n",
       "    }\n",
       "</style>\n",
       "<table border=\"1\" class=\"dataframe\">\n",
       "  <thead>\n",
       "    <tr style=\"text-align: right;\">\n",
       "      <th></th>\n",
       "      <th>Unnamed: 0</th>\n",
       "      <th>Cases - cumulative total</th>\n",
       "      <th>Cases - cumulative total per 100000 population</th>\n",
       "      <th>Cases - newly reported in last 7 days</th>\n",
       "      <th>Cases - newly reported in last 7 days per 100000 population</th>\n",
       "      <th>Cases - newly reported in last 24 hours</th>\n",
       "      <th>Deaths - cumulative total</th>\n",
       "      <th>Deaths - cumulative total per 100000 population</th>\n",
       "      <th>Deaths - newly reported in last 7 days</th>\n",
       "      <th>Deaths - newly reported in last 7 days per 100000 population</th>\n",
       "      <th>Deaths - newly reported in last 24 hours</th>\n",
       "    </tr>\n",
       "  </thead>\n",
       "  <tbody>\n",
       "    <tr>\n",
       "      <th>count</th>\n",
       "      <td>237.000000</td>\n",
       "      <td>2.370000e+02</td>\n",
       "      <td>237.000000</td>\n",
       "      <td>2.370000e+02</td>\n",
       "      <td>237.000000</td>\n",
       "      <td>237.000000</td>\n",
       "      <td>2.370000e+02</td>\n",
       "      <td>237.000000</td>\n",
       "      <td>237.000000</td>\n",
       "      <td>237.000000</td>\n",
       "      <td>237.000000</td>\n",
       "    </tr>\n",
       "    <tr>\n",
       "      <th>mean</th>\n",
       "      <td>118.000000</td>\n",
       "      <td>4.510506e+06</td>\n",
       "      <td>15954.805593</td>\n",
       "      <td>2.941728e+04</td>\n",
       "      <td>115.712143</td>\n",
       "      <td>4825.527426</td>\n",
       "      <td>5.325807e+04</td>\n",
       "      <td>113.529595</td>\n",
       "      <td>72.497890</td>\n",
       "      <td>0.414883</td>\n",
       "      <td>9.130802</td>\n",
       "    </tr>\n",
       "    <tr>\n",
       "      <th>std</th>\n",
       "      <td>68.560193</td>\n",
       "      <td>3.537414e+07</td>\n",
       "      <td>16331.414183</td>\n",
       "      <td>2.355865e+05</td>\n",
       "      <td>231.738607</td>\n",
       "      <td>38699.625830</td>\n",
       "      <td>4.191268e+05</td>\n",
       "      <td>120.332178</td>\n",
       "      <td>587.830474</td>\n",
       "      <td>3.384703</td>\n",
       "      <td>74.032201</td>\n",
       "    </tr>\n",
       "    <tr>\n",
       "      <th>min</th>\n",
       "      <td>0.000000</td>\n",
       "      <td>0.000000e+00</td>\n",
       "      <td>0.000000</td>\n",
       "      <td>0.000000e+00</td>\n",
       "      <td>0.000000</td>\n",
       "      <td>0.000000</td>\n",
       "      <td>0.000000e+00</td>\n",
       "      <td>0.000000</td>\n",
       "      <td>0.000000</td>\n",
       "      <td>0.000000</td>\n",
       "      <td>0.000000</td>\n",
       "    </tr>\n",
       "    <tr>\n",
       "      <th>25%</th>\n",
       "      <td>59.000000</td>\n",
       "      <td>2.051600e+04</td>\n",
       "      <td>1186.863000</td>\n",
       "      <td>1.600000e+01</td>\n",
       "      <td>0.405000</td>\n",
       "      <td>0.000000</td>\n",
       "      <td>1.530000e+02</td>\n",
       "      <td>13.754000</td>\n",
       "      <td>0.000000</td>\n",
       "      <td>0.000000</td>\n",
       "      <td>0.000000</td>\n",
       "    </tr>\n",
       "    <tr>\n",
       "      <th>50%</th>\n",
       "      <td>118.000000</td>\n",
       "      <td>1.652510e+05</td>\n",
       "      <td>10893.582000</td>\n",
       "      <td>2.070000e+02</td>\n",
       "      <td>15.744000</td>\n",
       "      <td>0.000000</td>\n",
       "      <td>1.490000e+03</td>\n",
       "      <td>73.847000</td>\n",
       "      <td>0.000000</td>\n",
       "      <td>0.000000</td>\n",
       "      <td>0.000000</td>\n",
       "    </tr>\n",
       "    <tr>\n",
       "      <th>75%</th>\n",
       "      <td>177.000000</td>\n",
       "      <td>1.101109e+06</td>\n",
       "      <td>27005.418000</td>\n",
       "      <td>1.884000e+03</td>\n",
       "      <td>129.114000</td>\n",
       "      <td>221.000000</td>\n",
       "      <td>1.195200e+04</td>\n",
       "      <td>174.253000</td>\n",
       "      <td>5.000000</td>\n",
       "      <td>0.130000</td>\n",
       "      <td>0.000000</td>\n",
       "    </tr>\n",
       "    <tr>\n",
       "      <th>max</th>\n",
       "      <td>236.000000</td>\n",
       "      <td>5.344953e+08</td>\n",
       "      <td>70926.021000</td>\n",
       "      <td>3.485948e+06</td>\n",
       "      <td>2131.827000</td>\n",
       "      <td>571825.000000</td>\n",
       "      <td>6.311088e+06</td>\n",
       "      <td>647.031000</td>\n",
       "      <td>8591.000000</td>\n",
       "      <td>51.733000</td>\n",
       "      <td>1082.000000</td>\n",
       "    </tr>\n",
       "  </tbody>\n",
       "</table>\n",
       "</div>"
      ],
      "text/plain": [
       "       Unnamed: 0  Cases - cumulative total  \\\n",
       "count  237.000000              2.370000e+02   \n",
       "mean   118.000000              4.510506e+06   \n",
       "std     68.560193              3.537414e+07   \n",
       "min      0.000000              0.000000e+00   \n",
       "25%     59.000000              2.051600e+04   \n",
       "50%    118.000000              1.652510e+05   \n",
       "75%    177.000000              1.101109e+06   \n",
       "max    236.000000              5.344953e+08   \n",
       "\n",
       "       Cases - cumulative total per 100000 population  \\\n",
       "count                                      237.000000   \n",
       "mean                                     15954.805593   \n",
       "std                                      16331.414183   \n",
       "min                                          0.000000   \n",
       "25%                                       1186.863000   \n",
       "50%                                      10893.582000   \n",
       "75%                                      27005.418000   \n",
       "max                                      70926.021000   \n",
       "\n",
       "       Cases - newly reported in last 7 days  \\\n",
       "count                           2.370000e+02   \n",
       "mean                            2.941728e+04   \n",
       "std                             2.355865e+05   \n",
       "min                             0.000000e+00   \n",
       "25%                             1.600000e+01   \n",
       "50%                             2.070000e+02   \n",
       "75%                             1.884000e+03   \n",
       "max                             3.485948e+06   \n",
       "\n",
       "       Cases - newly reported in last 7 days per 100000 population  \\\n",
       "count                                         237.000000             \n",
       "mean                                          115.712143             \n",
       "std                                           231.738607             \n",
       "min                                             0.000000             \n",
       "25%                                             0.405000             \n",
       "50%                                            15.744000             \n",
       "75%                                           129.114000             \n",
       "max                                          2131.827000             \n",
       "\n",
       "       Cases - newly reported in last 24 hours  Deaths - cumulative total  \\\n",
       "count                               237.000000               2.370000e+02   \n",
       "mean                               4825.527426               5.325807e+04   \n",
       "std                               38699.625830               4.191268e+05   \n",
       "min                                   0.000000               0.000000e+00   \n",
       "25%                                   0.000000               1.530000e+02   \n",
       "50%                                   0.000000               1.490000e+03   \n",
       "75%                                 221.000000               1.195200e+04   \n",
       "max                              571825.000000               6.311088e+06   \n",
       "\n",
       "       Deaths - cumulative total per 100000 population  \\\n",
       "count                                       237.000000   \n",
       "mean                                        113.529595   \n",
       "std                                         120.332178   \n",
       "min                                           0.000000   \n",
       "25%                                          13.754000   \n",
       "50%                                          73.847000   \n",
       "75%                                         174.253000   \n",
       "max                                         647.031000   \n",
       "\n",
       "       Deaths - newly reported in last 7 days  \\\n",
       "count                              237.000000   \n",
       "mean                                72.497890   \n",
       "std                                587.830474   \n",
       "min                                  0.000000   \n",
       "25%                                  0.000000   \n",
       "50%                                  0.000000   \n",
       "75%                                  5.000000   \n",
       "max                               8591.000000   \n",
       "\n",
       "       Deaths - newly reported in last 7 days per 100000 population  \\\n",
       "count                                         237.000000              \n",
       "mean                                            0.414883              \n",
       "std                                             3.384703              \n",
       "min                                             0.000000              \n",
       "25%                                             0.000000              \n",
       "50%                                             0.000000              \n",
       "75%                                             0.130000              \n",
       "max                                            51.733000              \n",
       "\n",
       "       Deaths - newly reported in last 24 hours  \n",
       "count                                237.000000  \n",
       "mean                                   9.130802  \n",
       "std                                   74.032201  \n",
       "min                                    0.000000  \n",
       "25%                                    0.000000  \n",
       "50%                                    0.000000  \n",
       "75%                                    0.000000  \n",
       "max                                 1082.000000  "
      ]
     },
     "execution_count": 6,
     "metadata": {},
     "output_type": "execute_result"
    },
    {
     "data": {
      "text/html": [
       "<div>\n",
       "<style scoped>\n",
       "    .dataframe tbody tr th:only-of-type {\n",
       "        vertical-align: middle;\n",
       "    }\n",
       "\n",
       "    .dataframe tbody tr th {\n",
       "        vertical-align: top;\n",
       "    }\n",
       "\n",
       "    .dataframe thead th {\n",
       "        text-align: right;\n",
       "    }\n",
       "</style>\n",
       "<table border=\"1\" class=\"dataframe\">\n",
       "  <thead>\n",
       "    <tr style=\"text-align: right;\">\n",
       "      <th></th>\n",
       "      <th>Unnamed: 0</th>\n",
       "      <th>TOTAL_VACCINATIONS</th>\n",
       "      <th>TOTAL_VACCINATIONS_PER100</th>\n",
       "      <th>NUMBER_VACCINES_TYPES_USED</th>\n",
       "    </tr>\n",
       "  </thead>\n",
       "  <tbody>\n",
       "    <tr>\n",
       "      <th>count</th>\n",
       "      <td>228.00000</td>\n",
       "      <td>2.280000e+02</td>\n",
       "      <td>228.00000</td>\n",
       "      <td>228.000000</td>\n",
       "    </tr>\n",
       "    <tr>\n",
       "      <th>mean</th>\n",
       "      <td>113.50000</td>\n",
       "      <td>5.203603e+07</td>\n",
       "      <td>135.09814</td>\n",
       "      <td>4.627193</td>\n",
       "    </tr>\n",
       "    <tr>\n",
       "      <th>std</th>\n",
       "      <td>65.96211</td>\n",
       "      <td>2.664026e+08</td>\n",
       "      <td>77.47055</td>\n",
       "      <td>2.734436</td>\n",
       "    </tr>\n",
       "    <tr>\n",
       "      <th>min</th>\n",
       "      <td>0.00000</td>\n",
       "      <td>1.060000e+02</td>\n",
       "      <td>0.13700</td>\n",
       "      <td>1.000000</td>\n",
       "    </tr>\n",
       "    <tr>\n",
       "      <th>25%</th>\n",
       "      <td>56.75000</td>\n",
       "      <td>3.827510e+05</td>\n",
       "      <td>71.12500</td>\n",
       "      <td>3.000000</td>\n",
       "    </tr>\n",
       "    <tr>\n",
       "      <th>50%</th>\n",
       "      <td>113.50000</td>\n",
       "      <td>2.954984e+06</td>\n",
       "      <td>138.39250</td>\n",
       "      <td>4.000000</td>\n",
       "    </tr>\n",
       "    <tr>\n",
       "      <th>75%</th>\n",
       "      <td>170.25000</td>\n",
       "      <td>1.835552e+07</td>\n",
       "      <td>202.58600</td>\n",
       "      <td>6.000000</td>\n",
       "    </tr>\n",
       "    <tr>\n",
       "      <th>max</th>\n",
       "      <td>227.00000</td>\n",
       "      <td>3.397316e+09</td>\n",
       "      <td>355.74800</td>\n",
       "      <td>12.000000</td>\n",
       "    </tr>\n",
       "  </tbody>\n",
       "</table>\n",
       "</div>"
      ],
      "text/plain": [
       "       Unnamed: 0  TOTAL_VACCINATIONS  TOTAL_VACCINATIONS_PER100  \\\n",
       "count   228.00000        2.280000e+02                  228.00000   \n",
       "mean    113.50000        5.203603e+07                  135.09814   \n",
       "std      65.96211        2.664026e+08                   77.47055   \n",
       "min       0.00000        1.060000e+02                    0.13700   \n",
       "25%      56.75000        3.827510e+05                   71.12500   \n",
       "50%     113.50000        2.954984e+06                  138.39250   \n",
       "75%     170.25000        1.835552e+07                  202.58600   \n",
       "max     227.00000        3.397316e+09                  355.74800   \n",
       "\n",
       "       NUMBER_VACCINES_TYPES_USED  \n",
       "count                  228.000000  \n",
       "mean                     4.627193  \n",
       "std                      2.734436  \n",
       "min                      1.000000  \n",
       "25%                      3.000000  \n",
       "50%                      4.000000  \n",
       "75%                      6.000000  \n",
       "max                     12.000000  "
      ]
     },
     "execution_count": 6,
     "metadata": {},
     "output_type": "execute_result"
    }
   ],
   "source": [
    "global_stats.describe()\n",
    "vaccinations.describe()"
   ]
  },
  {
   "cell_type": "code",
   "execution_count": 7,
   "metadata": {},
   "outputs": [],
   "source": [
    "#Creating new dataframe with select columns\n",
    "\n",
    "global_stats1=global_stats[['COUNTRY', 'WHO Region', 'Cases - cumulative total', 'Cases - cumulative total per 100000 population','Deaths - cumulative total','Deaths - cumulative total per 100000 population']]\n",
    "vaccinations1=vaccinations[['COUNTRY', 'TOTAL_VACCINATIONS', 'TOTAL_VACCINATIONS_PER100', 'VACCINES_USED', 'NUMBER_VACCINES_TYPES_USED']]"
   ]
  },
  {
   "cell_type": "code",
   "execution_count": 8,
   "metadata": {},
   "outputs": [
    {
     "data": {
      "text/html": [
       "<div>\n",
       "<style scoped>\n",
       "    .dataframe tbody tr th:only-of-type {\n",
       "        vertical-align: middle;\n",
       "    }\n",
       "\n",
       "    .dataframe tbody tr th {\n",
       "        vertical-align: top;\n",
       "    }\n",
       "\n",
       "    .dataframe thead th {\n",
       "        text-align: right;\n",
       "    }\n",
       "</style>\n",
       "<table border=\"1\" class=\"dataframe\">\n",
       "  <thead>\n",
       "    <tr style=\"text-align: right;\">\n",
       "      <th></th>\n",
       "      <th>COUNTRY</th>\n",
       "      <th>WHO Region</th>\n",
       "      <th>Cases - cumulative total</th>\n",
       "      <th>Cases - cumulative total per 100000 population</th>\n",
       "      <th>Deaths - cumulative total</th>\n",
       "      <th>Deaths - cumulative total per 100000 population</th>\n",
       "    </tr>\n",
       "  </thead>\n",
       "  <tbody>\n",
       "    <tr>\n",
       "      <th>0</th>\n",
       "      <td>Afghanistan</td>\n",
       "      <td>Eastern Mediterranean</td>\n",
       "      <td>181236</td>\n",
       "      <td>465.563</td>\n",
       "      <td>7710</td>\n",
       "      <td>19.806</td>\n",
       "    </tr>\n",
       "    <tr>\n",
       "      <th>1</th>\n",
       "      <td>Albania</td>\n",
       "      <td>Europe</td>\n",
       "      <td>276821</td>\n",
       "      <td>9619.188</td>\n",
       "      <td>3497</td>\n",
       "      <td>121.516</td>\n",
       "    </tr>\n",
       "    <tr>\n",
       "      <th>2</th>\n",
       "      <td>Algeria</td>\n",
       "      <td>Africa</td>\n",
       "      <td>265937</td>\n",
       "      <td>606.455</td>\n",
       "      <td>6875</td>\n",
       "      <td>15.678</td>\n",
       "    </tr>\n",
       "    <tr>\n",
       "      <th>3</th>\n",
       "      <td>American Samoa</td>\n",
       "      <td>Western Pacific</td>\n",
       "      <td>6270</td>\n",
       "      <td>11359.313</td>\n",
       "      <td>31</td>\n",
       "      <td>56.162</td>\n",
       "    </tr>\n",
       "    <tr>\n",
       "      <th>4</th>\n",
       "      <td>Andorra</td>\n",
       "      <td>Europe</td>\n",
       "      <td>43224</td>\n",
       "      <td>55942.535</td>\n",
       "      <td>153</td>\n",
       "      <td>198.020</td>\n",
       "    </tr>\n",
       "  </tbody>\n",
       "</table>\n",
       "</div>"
      ],
      "text/plain": [
       "          COUNTRY             WHO Region  Cases - cumulative total  \\\n",
       "0     Afghanistan  Eastern Mediterranean                    181236   \n",
       "1         Albania                 Europe                    276821   \n",
       "2         Algeria                 Africa                    265937   \n",
       "3  American Samoa        Western Pacific                      6270   \n",
       "4         Andorra                 Europe                     43224   \n",
       "\n",
       "   Cases - cumulative total per 100000 population  Deaths - cumulative total  \\\n",
       "0                                         465.563                       7710   \n",
       "1                                        9619.188                       3497   \n",
       "2                                         606.455                       6875   \n",
       "3                                       11359.313                         31   \n",
       "4                                       55942.535                        153   \n",
       "\n",
       "   Deaths - cumulative total per 100000 population  \n",
       "0                                           19.806  \n",
       "1                                          121.516  \n",
       "2                                           15.678  \n",
       "3                                           56.162  \n",
       "4                                          198.020  "
      ]
     },
     "execution_count": 8,
     "metadata": {},
     "output_type": "execute_result"
    },
    {
     "data": {
      "text/html": [
       "<div>\n",
       "<style scoped>\n",
       "    .dataframe tbody tr th:only-of-type {\n",
       "        vertical-align: middle;\n",
       "    }\n",
       "\n",
       "    .dataframe tbody tr th {\n",
       "        vertical-align: top;\n",
       "    }\n",
       "\n",
       "    .dataframe thead th {\n",
       "        text-align: right;\n",
       "    }\n",
       "</style>\n",
       "<table border=\"1\" class=\"dataframe\">\n",
       "  <thead>\n",
       "    <tr style=\"text-align: right;\">\n",
       "      <th></th>\n",
       "      <th>COUNTRY</th>\n",
       "      <th>TOTAL_VACCINATIONS</th>\n",
       "      <th>TOTAL_VACCINATIONS_PER100</th>\n",
       "      <th>VACCINES_USED</th>\n",
       "      <th>NUMBER_VACCINES_TYPES_USED</th>\n",
       "    </tr>\n",
       "  </thead>\n",
       "  <tbody>\n",
       "    <tr>\n",
       "      <th>0</th>\n",
       "      <td>Afghanistan</td>\n",
       "      <td>6171652</td>\n",
       "      <td>15.854</td>\n",
       "      <td>AstraZeneca - Vaxzevria,Beijing CNBG - BBIBP-C...</td>\n",
       "      <td>11.0</td>\n",
       "    </tr>\n",
       "    <tr>\n",
       "      <th>1</th>\n",
       "      <td>Albania</td>\n",
       "      <td>2873654</td>\n",
       "      <td>99.900</td>\n",
       "      <td>AstraZeneca - Vaxzevria,Gamaleya - Gam-Covid-V...</td>\n",
       "      <td>5.0</td>\n",
       "    </tr>\n",
       "    <tr>\n",
       "      <th>2</th>\n",
       "      <td>Algeria</td>\n",
       "      <td>15205854</td>\n",
       "      <td>34.676</td>\n",
       "      <td>Beijing CNBG - BBIBP-CorV,Gamaleya - Gam-Covid...</td>\n",
       "      <td>4.0</td>\n",
       "    </tr>\n",
       "    <tr>\n",
       "      <th>3</th>\n",
       "      <td>American Samoa</td>\n",
       "      <td>108220</td>\n",
       "      <td>196.061</td>\n",
       "      <td>Janssen - Ad26.COV 2-S,Moderna - Spikevax,Pfiz...</td>\n",
       "      <td>3.0</td>\n",
       "    </tr>\n",
       "    <tr>\n",
       "      <th>4</th>\n",
       "      <td>Andorra</td>\n",
       "      <td>153072</td>\n",
       "      <td>198.100</td>\n",
       "      <td>AstraZeneca - Vaxzevria,Moderna - Spikevax,Pfi...</td>\n",
       "      <td>3.0</td>\n",
       "    </tr>\n",
       "  </tbody>\n",
       "</table>\n",
       "</div>"
      ],
      "text/plain": [
       "          COUNTRY  TOTAL_VACCINATIONS  TOTAL_VACCINATIONS_PER100  \\\n",
       "0     Afghanistan             6171652                     15.854   \n",
       "1         Albania             2873654                     99.900   \n",
       "2         Algeria            15205854                     34.676   \n",
       "3  American Samoa              108220                    196.061   \n",
       "4         Andorra              153072                    198.100   \n",
       "\n",
       "                                       VACCINES_USED  \\\n",
       "0  AstraZeneca - Vaxzevria,Beijing CNBG - BBIBP-C...   \n",
       "1  AstraZeneca - Vaxzevria,Gamaleya - Gam-Covid-V...   \n",
       "2  Beijing CNBG - BBIBP-CorV,Gamaleya - Gam-Covid...   \n",
       "3  Janssen - Ad26.COV 2-S,Moderna - Spikevax,Pfiz...   \n",
       "4  AstraZeneca - Vaxzevria,Moderna - Spikevax,Pfi...   \n",
       "\n",
       "   NUMBER_VACCINES_TYPES_USED  \n",
       "0                        11.0  \n",
       "1                         5.0  \n",
       "2                         4.0  \n",
       "3                         3.0  \n",
       "4                         3.0  "
      ]
     },
     "execution_count": 8,
     "metadata": {},
     "output_type": "execute_result"
    }
   ],
   "source": [
    "#Checking new dataframes\n",
    "global_stats1.head()\n",
    "\n",
    "vaccinations1.head()"
   ]
  },
  {
   "cell_type": "code",
   "execution_count": 9,
   "metadata": {},
   "outputs": [
    {
     "data": {
      "text/html": [
       "<div>\n",
       "<style scoped>\n",
       "    .dataframe tbody tr th:only-of-type {\n",
       "        vertical-align: middle;\n",
       "    }\n",
       "\n",
       "    .dataframe tbody tr th {\n",
       "        vertical-align: top;\n",
       "    }\n",
       "\n",
       "    .dataframe thead th {\n",
       "        text-align: right;\n",
       "    }\n",
       "</style>\n",
       "<table border=\"1\" class=\"dataframe\">\n",
       "  <thead>\n",
       "    <tr style=\"text-align: right;\">\n",
       "      <th></th>\n",
       "      <th>COUNTRY</th>\n",
       "      <th>WHO Region</th>\n",
       "      <th>Cases - cumulative total</th>\n",
       "      <th>Cases - cumulative total per 100000 population</th>\n",
       "      <th>Deaths - cumulative total</th>\n",
       "      <th>Deaths - cumulative total per 100000 population</th>\n",
       "      <th>TOTAL_VACCINATIONS</th>\n",
       "      <th>TOTAL_VACCINATIONS_PER100</th>\n",
       "      <th>VACCINES_USED</th>\n",
       "      <th>NUMBER_VACCINES_TYPES_USED</th>\n",
       "    </tr>\n",
       "  </thead>\n",
       "  <tbody>\n",
       "    <tr>\n",
       "      <th>0</th>\n",
       "      <td>Afghanistan</td>\n",
       "      <td>Eastern Mediterranean</td>\n",
       "      <td>181236</td>\n",
       "      <td>465.563</td>\n",
       "      <td>7710</td>\n",
       "      <td>19.806</td>\n",
       "      <td>6171652</td>\n",
       "      <td>15.854</td>\n",
       "      <td>AstraZeneca - Vaxzevria,Beijing CNBG - BBIBP-C...</td>\n",
       "      <td>11.0</td>\n",
       "    </tr>\n",
       "    <tr>\n",
       "      <th>1</th>\n",
       "      <td>Albania</td>\n",
       "      <td>Europe</td>\n",
       "      <td>276821</td>\n",
       "      <td>9619.188</td>\n",
       "      <td>3497</td>\n",
       "      <td>121.516</td>\n",
       "      <td>2873654</td>\n",
       "      <td>99.900</td>\n",
       "      <td>AstraZeneca - Vaxzevria,Gamaleya - Gam-Covid-V...</td>\n",
       "      <td>5.0</td>\n",
       "    </tr>\n",
       "    <tr>\n",
       "      <th>2</th>\n",
       "      <td>Algeria</td>\n",
       "      <td>Africa</td>\n",
       "      <td>265937</td>\n",
       "      <td>606.455</td>\n",
       "      <td>6875</td>\n",
       "      <td>15.678</td>\n",
       "      <td>15205854</td>\n",
       "      <td>34.676</td>\n",
       "      <td>Beijing CNBG - BBIBP-CorV,Gamaleya - Gam-Covid...</td>\n",
       "      <td>4.0</td>\n",
       "    </tr>\n",
       "    <tr>\n",
       "      <th>3</th>\n",
       "      <td>American Samoa</td>\n",
       "      <td>Western Pacific</td>\n",
       "      <td>6270</td>\n",
       "      <td>11359.313</td>\n",
       "      <td>31</td>\n",
       "      <td>56.162</td>\n",
       "      <td>108220</td>\n",
       "      <td>196.061</td>\n",
       "      <td>Janssen - Ad26.COV 2-S,Moderna - Spikevax,Pfiz...</td>\n",
       "      <td>3.0</td>\n",
       "    </tr>\n",
       "    <tr>\n",
       "      <th>4</th>\n",
       "      <td>Andorra</td>\n",
       "      <td>Europe</td>\n",
       "      <td>43224</td>\n",
       "      <td>55942.535</td>\n",
       "      <td>153</td>\n",
       "      <td>198.020</td>\n",
       "      <td>153072</td>\n",
       "      <td>198.100</td>\n",
       "      <td>AstraZeneca - Vaxzevria,Moderna - Spikevax,Pfi...</td>\n",
       "      <td>3.0</td>\n",
       "    </tr>\n",
       "    <tr>\n",
       "      <th>...</th>\n",
       "      <td>...</td>\n",
       "      <td>...</td>\n",
       "      <td>...</td>\n",
       "      <td>...</td>\n",
       "      <td>...</td>\n",
       "      <td>...</td>\n",
       "      <td>...</td>\n",
       "      <td>...</td>\n",
       "      <td>...</td>\n",
       "      <td>...</td>\n",
       "    </tr>\n",
       "    <tr>\n",
       "      <th>220</th>\n",
       "      <td>Viet Nam</td>\n",
       "      <td>Western Pacific</td>\n",
       "      <td>10733285</td>\n",
       "      <td>11026.753</td>\n",
       "      <td>43083</td>\n",
       "      <td>44.261</td>\n",
       "      <td>221658034</td>\n",
       "      <td>227.719</td>\n",
       "      <td>AstraZeneca - Vaxzevria,Beijing CNBG - BBIBP-C...</td>\n",
       "      <td>6.0</td>\n",
       "    </tr>\n",
       "    <tr>\n",
       "      <th>221</th>\n",
       "      <td>Wallis and Futuna</td>\n",
       "      <td>Western Pacific</td>\n",
       "      <td>454</td>\n",
       "      <td>4036.991</td>\n",
       "      <td>7</td>\n",
       "      <td>62.244</td>\n",
       "      <td>16426</td>\n",
       "      <td>146.061</td>\n",
       "      <td>Moderna - Spikevax</td>\n",
       "      <td>1.0</td>\n",
       "    </tr>\n",
       "    <tr>\n",
       "      <th>222</th>\n",
       "      <td>Yemen</td>\n",
       "      <td>Eastern Mediterranean</td>\n",
       "      <td>11822</td>\n",
       "      <td>39.637</td>\n",
       "      <td>2149</td>\n",
       "      <td>7.205</td>\n",
       "      <td>838621</td>\n",
       "      <td>2.812</td>\n",
       "      <td>AstraZeneca - Vaxzevria,Beijing CNBG - BBIBP-C...</td>\n",
       "      <td>11.0</td>\n",
       "    </tr>\n",
       "    <tr>\n",
       "      <th>223</th>\n",
       "      <td>Zambia</td>\n",
       "      <td>Africa</td>\n",
       "      <td>323337</td>\n",
       "      <td>1758.800</td>\n",
       "      <td>3989</td>\n",
       "      <td>21.698</td>\n",
       "      <td>3750417</td>\n",
       "      <td>20.400</td>\n",
       "      <td>Beijing CNBG - BBIBP-CorV,Janssen - Ad26.COV 2...</td>\n",
       "      <td>3.0</td>\n",
       "    </tr>\n",
       "    <tr>\n",
       "      <th>224</th>\n",
       "      <td>Zimbabwe</td>\n",
       "      <td>Africa</td>\n",
       "      <td>254155</td>\n",
       "      <td>1709.993</td>\n",
       "      <td>5521</td>\n",
       "      <td>37.146</td>\n",
       "      <td>10796053</td>\n",
       "      <td>72.637</td>\n",
       "      <td>Beijing CNBG - BBIBP-CorV,Bharat - Covaxin,Gam...</td>\n",
       "      <td>4.0</td>\n",
       "    </tr>\n",
       "  </tbody>\n",
       "</table>\n",
       "<p>225 rows × 10 columns</p>\n",
       "</div>"
      ],
      "text/plain": [
       "               COUNTRY             WHO Region  Cases - cumulative total  \\\n",
       "0          Afghanistan  Eastern Mediterranean                    181236   \n",
       "1              Albania                 Europe                    276821   \n",
       "2              Algeria                 Africa                    265937   \n",
       "3       American Samoa        Western Pacific                      6270   \n",
       "4              Andorra                 Europe                     43224   \n",
       "..                 ...                    ...                       ...   \n",
       "220           Viet Nam        Western Pacific                  10733285   \n",
       "221  Wallis and Futuna        Western Pacific                       454   \n",
       "222              Yemen  Eastern Mediterranean                     11822   \n",
       "223             Zambia                 Africa                    323337   \n",
       "224           Zimbabwe                 Africa                    254155   \n",
       "\n",
       "     Cases - cumulative total per 100000 population  \\\n",
       "0                                           465.563   \n",
       "1                                          9619.188   \n",
       "2                                           606.455   \n",
       "3                                         11359.313   \n",
       "4                                         55942.535   \n",
       "..                                              ...   \n",
       "220                                       11026.753   \n",
       "221                                        4036.991   \n",
       "222                                          39.637   \n",
       "223                                        1758.800   \n",
       "224                                        1709.993   \n",
       "\n",
       "     Deaths - cumulative total  \\\n",
       "0                         7710   \n",
       "1                         3497   \n",
       "2                         6875   \n",
       "3                           31   \n",
       "4                          153   \n",
       "..                         ...   \n",
       "220                      43083   \n",
       "221                          7   \n",
       "222                       2149   \n",
       "223                       3989   \n",
       "224                       5521   \n",
       "\n",
       "     Deaths - cumulative total per 100000 population  TOTAL_VACCINATIONS  \\\n",
       "0                                             19.806             6171652   \n",
       "1                                            121.516             2873654   \n",
       "2                                             15.678            15205854   \n",
       "3                                             56.162              108220   \n",
       "4                                            198.020              153072   \n",
       "..                                               ...                 ...   \n",
       "220                                           44.261           221658034   \n",
       "221                                           62.244               16426   \n",
       "222                                            7.205              838621   \n",
       "223                                           21.698             3750417   \n",
       "224                                           37.146            10796053   \n",
       "\n",
       "     TOTAL_VACCINATIONS_PER100  \\\n",
       "0                       15.854   \n",
       "1                       99.900   \n",
       "2                       34.676   \n",
       "3                      196.061   \n",
       "4                      198.100   \n",
       "..                         ...   \n",
       "220                    227.719   \n",
       "221                    146.061   \n",
       "222                      2.812   \n",
       "223                     20.400   \n",
       "224                     72.637   \n",
       "\n",
       "                                         VACCINES_USED  \\\n",
       "0    AstraZeneca - Vaxzevria,Beijing CNBG - BBIBP-C...   \n",
       "1    AstraZeneca - Vaxzevria,Gamaleya - Gam-Covid-V...   \n",
       "2    Beijing CNBG - BBIBP-CorV,Gamaleya - Gam-Covid...   \n",
       "3    Janssen - Ad26.COV 2-S,Moderna - Spikevax,Pfiz...   \n",
       "4    AstraZeneca - Vaxzevria,Moderna - Spikevax,Pfi...   \n",
       "..                                                 ...   \n",
       "220  AstraZeneca - Vaxzevria,Beijing CNBG - BBIBP-C...   \n",
       "221                                 Moderna - Spikevax   \n",
       "222  AstraZeneca - Vaxzevria,Beijing CNBG - BBIBP-C...   \n",
       "223  Beijing CNBG - BBIBP-CorV,Janssen - Ad26.COV 2...   \n",
       "224  Beijing CNBG - BBIBP-CorV,Bharat - Covaxin,Gam...   \n",
       "\n",
       "     NUMBER_VACCINES_TYPES_USED  \n",
       "0                          11.0  \n",
       "1                           5.0  \n",
       "2                           4.0  \n",
       "3                           3.0  \n",
       "4                           3.0  \n",
       "..                          ...  \n",
       "220                         6.0  \n",
       "221                         1.0  \n",
       "222                        11.0  \n",
       "223                         3.0  \n",
       "224                         4.0  \n",
       "\n",
       "[225 rows x 10 columns]"
      ]
     },
     "execution_count": 9,
     "metadata": {},
     "output_type": "execute_result"
    }
   ],
   "source": [
    "#Joining both dataframes on country\n",
    "\n",
    "covid_stats=global_stats1.merge(vaccinations1, on='COUNTRY')\n",
    "\n",
    "covid_stats"
   ]
  },
  {
   "cell_type": "code",
   "execution_count": 10,
   "metadata": {},
   "outputs": [],
   "source": [
    "#Save merged dataframe\n",
    "\n",
    "#covid_stats.to_csv(\"covidstats.csv\")"
   ]
  },
  {
   "cell_type": "markdown",
   "metadata": {
    "azdata_cell_guid": "d794ffe0-9cd3-4812-bc7d-f75460cf611c"
   },
   "source": [
    "## Find Correlations\n",
    "\n",
    "Use either pairplot or a heatmap or both to find the two variables with the strongest correlation in your dataset."
   ]
  },
  {
   "cell_type": "code",
   "execution_count": 11,
   "metadata": {
    "azdata_cell_guid": "b009376d-9eb1-4cf0-9487-f0ddc3dbc1cd"
   },
   "outputs": [
    {
     "data": {
      "text/plain": [
       "<AxesSubplot:>"
      ]
     },
     "execution_count": 11,
     "metadata": {},
     "output_type": "execute_result"
    },
    {
     "data": {
      "image/png": "[encoded data removed]",
      "text/plain": [
       "<Figure size 432x288 with 2 Axes>"
      ]
     },
     "metadata": {
      "needs_background": "light"
     },
     "output_type": "display_data"
    }
   ],
   "source": [
    "# Visualizing the data using heatmap\n",
    "sns.heatmap(covid_stats.corr(), cmap=\"OrRd\", annot = True)\n",
    "plt.show()"
   ]
  },
  {
   "cell_type": "code",
   "execution_count": 12,
   "metadata": {},
   "outputs": [],
   "source": [
    "#Pairplot\n",
    "#sns.pairplot(covid_stats)"
   ]
  },
  {
   "cell_type": "code",
   "execution_count": 13,
   "metadata": {},
   "outputs": [
    {
     "data": {
      "text/plain": [
       "Cases - cumulative total                         Cases - cumulative total                           1.000000\n",
       "Cases - cumulative total per 100000 population   Cases - cumulative total per 100000 population     1.000000\n",
       "TOTAL_VACCINATIONS_PER100                        TOTAL_VACCINATIONS_PER100                          1.000000\n",
       "TOTAL_VACCINATIONS                               TOTAL_VACCINATIONS                                 1.000000\n",
       "Deaths - cumulative total                        Deaths - cumulative total                          1.000000\n",
       "Deaths - cumulative total per 100000 population  Deaths - cumulative total per 100000 population    1.000000\n",
       "NUMBER_VACCINES_TYPES_USED                       NUMBER_VACCINES_TYPES_USED                         1.000000\n",
       "Cases - cumulative total                         Deaths - cumulative total                          0.902570\n",
       "Deaths - cumulative total                        Cases - cumulative total                           0.902570\n",
       "TOTAL_VACCINATIONS_PER100                        Cases - cumulative total per 100000 population     0.531788\n",
       "dtype: float64"
      ]
     },
     "execution_count": 13,
     "metadata": {},
     "output_type": "execute_result"
    }
   ],
   "source": [
    "#List correlations and show the top 10 strongest correlations in the dataset:\n",
    "\n",
    "c = covid_stats.corr().abs()\n",
    "\n",
    "s = c.unstack()\n",
    "so = s.sort_values(ascending=False, kind=\"quicksort\")\n",
    "\n",
    "so.nlargest(n=10)\n"
   ]
  },
  {
   "cell_type": "markdown",
   "metadata": {
    "azdata_cell_guid": "b75b6098-4152-4701-9136-a8f774c8583e"
   },
   "source": [
    "## Create Your Model\n",
    "\n",
    "Use the two columns with the strongest correlation to create and train your model. Make sure to print out the summary and plot the column values and the line produced by the model.\n",
    "\n",
    "1. Cases - cumulative total\n",
    "\n",
    "2. Deaths - cumulative total"
   ]
  },
  {
   "cell_type": "code",
   "execution_count": 27,
   "metadata": {
    "azdata_cell_guid": "05ecd9c7-e4a4-4d5c-b092-3dff597e96a3"
   },
   "outputs": [],
   "source": [
    "# Step 1 is to assign your x(a variable (often denoted by x ) whose variation does not depend on that of another) and y\n",
    "\n",
    "x = covid_stats['Cases - cumulative total'] #independent variable\n",
    "y = covid_stats['Deaths - cumulative total']"
   ]
  },
  {
   "cell_type": "code",
   "execution_count": 28,
   "metadata": {
    "azdata_cell_guid": "f55fbe86-74b8-44f7-af96-7448e58983d7",
    "tags": []
   },
   "outputs": [],
   "source": [
    "# Step 2 is to create your train and test sets\n",
    "\n",
    "# Splitting the varaibles as training and testing\n",
    "from sklearn.model_selection import train_test_split\n",
    "x_train, x_test, y_train, y_test = train_test_split(x, y, train_size = 0.7, \n",
    "                                                    test_size = 0.3, random_state = 100)\n"
   ]
  },
  {
   "cell_type": "code",
   "execution_count": 29,
   "metadata": {},
   "outputs": [
    {
     "data": {
      "text/plain": [
       "181        7682\n",
       "7          8531\n",
       "28     31497038\n",
       "123       31127\n",
       "124       96490\n",
       "         ...   \n",
       "87         8306\n",
       "103       51132\n",
       "67        34658\n",
       "24       912869\n",
       "8       9313453\n",
       "Name: Cases - cumulative total, Length: 157, dtype: int64"
      ]
     },
     "execution_count": 29,
     "metadata": {},
     "output_type": "execute_result"
    },
    {
     "data": {
      "text/plain": [
       "181       125\n",
       "7         140\n",
       "28     668180\n",
       "123       736\n",
       "124       728\n",
       "        ...  \n",
       "87        171\n",
       "103       129\n",
       "67         28\n",
       "24      21951\n",
       "8      128994\n",
       "Name: Deaths - cumulative total, Length: 157, dtype: int64"
      ]
     },
     "execution_count": 29,
     "metadata": {},
     "output_type": "execute_result"
    }
   ],
   "source": [
    "# Take a look at the train dataset\n",
    "x_train\n",
    "y_train"
   ]
  },
  {
   "cell_type": "code",
   "execution_count": 30,
   "metadata": {},
   "outputs": [],
   "source": [
    "# Step 3 is to build the model. Remember to import any libraries you may need\n",
    "\n",
    "# Adding a constant to get an intercept\n",
    "x_train_sm = sm.add_constant(x_train)\n",
    "\n"
   ]
  },
  {
   "cell_type": "code",
   "execution_count": 31,
   "metadata": {},
   "outputs": [
    {
     "data": {
      "text/plain": [
       "const                       2168.407180\n",
       "Cases - cumulative total       0.011621\n",
       "dtype: float64"
      ]
     },
     "execution_count": 31,
     "metadata": {},
     "output_type": "execute_result"
    }
   ],
   "source": [
    "# Fitting the resgression line using 'OLS'\n",
    "lr = sm.OLS(y_train, x_train_sm).fit()\n",
    "\n",
    "# Printing the parameters\n",
    "lr.params"
   ]
  },
  {
   "cell_type": "code",
   "execution_count": 32,
   "metadata": {},
   "outputs": [
    {
     "data": {
      "text/html": [
       "<table class=\"simpletable\">\n",
       "<caption>OLS Regression Results</caption>\n",
       "<tr>\n",
       "  <th>Dep. Variable:</th>    <td>Deaths - cumulative total</td> <th>  R-squared:         </th> <td>   0.818</td>\n",
       "</tr>\n",
       "<tr>\n",
       "  <th>Model:</th>                       <td>OLS</td>            <th>  Adj. R-squared:    </th> <td>   0.817</td>\n",
       "</tr>\n",
       "<tr>\n",
       "  <th>Method:</th>                 <td>Least Squares</td>       <th>  F-statistic:       </th> <td>   697.7</td>\n",
       "</tr>\n",
       "<tr>\n",
       "  <th>Date:</th>                 <td>Mon, 29 Aug 2022</td>      <th>  Prob (F-statistic):</th> <td>2.90e-59</td>\n",
       "</tr>\n",
       "<tr>\n",
       "  <th>Time:</th>                     <td>16:48:04</td>          <th>  Log-Likelihood:    </th> <td> -1917.7</td>\n",
       "</tr>\n",
       "<tr>\n",
       "  <th>No. Observations:</th>          <td>   157</td>           <th>  AIC:               </th> <td>   3839.</td>\n",
       "</tr>\n",
       "<tr>\n",
       "  <th>Df Residuals:</th>              <td>   155</td>           <th>  BIC:               </th> <td>   3845.</td>\n",
       "</tr>\n",
       "<tr>\n",
       "  <th>Df Model:</th>                  <td>     1</td>           <th>                     </th>     <td> </td>   \n",
       "</tr>\n",
       "<tr>\n",
       "  <th>Covariance Type:</th>          <td>nonrobust</td>         <th>                     </th>     <td> </td>   \n",
       "</tr>\n",
       "</table>\n",
       "<table class=\"simpletable\">\n",
       "<tr>\n",
       "              <td></td>                <th>coef</th>     <th>std err</th>      <th>t</th>      <th>P>|t|</th>  <th>[0.025</th>    <th>0.975]</th>  \n",
       "</tr>\n",
       "<tr>\n",
       "  <th>const</th>                    <td> 2168.4072</td> <td> 4115.360</td> <td>    0.527</td> <td> 0.599</td> <td>-5961.022</td> <td> 1.03e+04</td>\n",
       "</tr>\n",
       "<tr>\n",
       "  <th>Cases - cumulative total</th> <td>    0.0116</td> <td>    0.000</td> <td>   26.414</td> <td> 0.000</td> <td>    0.011</td> <td>    0.012</td>\n",
       "</tr>\n",
       "</table>\n",
       "<table class=\"simpletable\">\n",
       "<tr>\n",
       "  <th>Omnibus:</th>       <td>99.119</td> <th>  Durbin-Watson:     </th> <td>   2.162</td>\n",
       "</tr>\n",
       "<tr>\n",
       "  <th>Prob(Omnibus):</th> <td> 0.000</td> <th>  Jarque-Bera (JB):  </th> <td>1980.172</td>\n",
       "</tr>\n",
       "<tr>\n",
       "  <th>Skew:</th>          <td> 1.790</td> <th>  Prob(JB):          </th> <td>    0.00</td>\n",
       "</tr>\n",
       "<tr>\n",
       "  <th>Kurtosis:</th>      <td>20.026</td> <th>  Cond. No.          </th> <td>9.82e+06</td>\n",
       "</tr>\n",
       "</table><br/><br/>Notes:<br/>[1] Standard Errors assume that the covariance matrix of the errors is correctly specified.<br/>[2] The condition number is large, 9.82e+06. This might indicate that there are<br/>strong multicollinearity or other numerical problems."
      ],
      "text/plain": [
       "<class 'statsmodels.iolib.summary.Summary'>\n",
       "\"\"\"\n",
       "                                OLS Regression Results                               \n",
       "=====================================================================================\n",
       "Dep. Variable:     Deaths - cumulative total   R-squared:                       0.818\n",
       "Model:                                   OLS   Adj. R-squared:                  0.817\n",
       "Method:                        Least Squares   F-statistic:                     697.7\n",
       "Date:                       Mon, 29 Aug 2022   Prob (F-statistic):           2.90e-59\n",
       "Time:                               16:48:04   Log-Likelihood:                -1917.7\n",
       "No. Observations:                        157   AIC:                             3839.\n",
       "Df Residuals:                            155   BIC:                             3845.\n",
       "Df Model:                                  1                                         \n",
       "Covariance Type:                   nonrobust                                         \n",
       "============================================================================================\n",
       "                               coef    std err          t      P>|t|      [0.025      0.975]\n",
       "--------------------------------------------------------------------------------------------\n",
       "const                     2168.4072   4115.360      0.527      0.599   -5961.022    1.03e+04\n",
       "Cases - cumulative total     0.0116      0.000     26.414      0.000       0.011       0.012\n",
       "==============================================================================\n",
       "Omnibus:                       99.119   Durbin-Watson:                   2.162\n",
       "Prob(Omnibus):                  0.000   Jarque-Bera (JB):             1980.172\n",
       "Skew:                           1.790   Prob(JB):                         0.00\n",
       "Kurtosis:                      20.026   Cond. No.                     9.82e+06\n",
       "==============================================================================\n",
       "\n",
       "Notes:\n",
       "[1] Standard Errors assume that the covariance matrix of the errors is correctly specified.\n",
       "[2] The condition number is large, 9.82e+06. This might indicate that there are\n",
       "strong multicollinearity or other numerical problems.\n",
       "\"\"\""
      ]
     },
     "execution_count": 32,
     "metadata": {},
     "output_type": "execute_result"
    }
   ],
   "source": [
    "#Performing a summary to list out all the different parameters of the regression line fitted\n",
    "lr.summary()"
   ]
  },
  {
   "cell_type": "markdown",
   "metadata": {},
   "source": [
    "Intercept : 2168.4071796944772\n",
    "\n",
    "Slope : [0.01162095]"
   ]
  },
  {
   "cell_type": "code",
   "execution_count": 33,
   "metadata": {},
   "outputs": [
    {
     "data": {
      "text/plain": [
       "<matplotlib.collections.PathCollection at 0x16aecf336a0>"
      ]
     },
     "execution_count": 33,
     "metadata": {},
     "output_type": "execute_result"
    },
    {
     "data": {
      "text/plain": [
       "[<matplotlib.lines.Line2D at 0x16aecf33c70>]"
      ]
     },
     "execution_count": 33,
     "metadata": {},
     "output_type": "execute_result"
    },
    {
     "data": {
      "image/png": "[encoded data removed]",
      "text/plain": [
       "<Figure size 432x288 with 1 Axes>"
      ]
     },
     "metadata": {
      "needs_background": "light"
     },
     "output_type": "display_data"
    }
   ],
   "source": [
    "# Visualizing the regression line\n",
    "plt.scatter(x_train, y_train)\n",
    "plt.plot(x_train,  2168.407 + 0.0116*x_train, 'r')\n",
    "plt.show()"
   ]
  },
  {
   "cell_type": "code",
   "execution_count": 34,
   "metadata": {},
   "outputs": [],
   "source": [
    "#Alternate solution finding intercept and slope\n",
    "\n",
    "# from sklearn.model_selection import train_test_split\n",
    "# x_train_lm, x_test_lm, y_train_lm, y_test_lm = train_test_split(x, y, train_size = 0.7, \n",
    "#                                                                 test_size = 0.3, random_state = 100)\n",
    "\n",
    "# #For simple linear regression, we need to add a column to perform the regression fit properly.\n",
    "\n",
    "# # Shape of the train set without adding column\n",
    "# x_train_lm.shape\n",
    "\n",
    "# # Adding additional column to the train and test data\n",
    "# x_train_lm = x_train_lm.values.reshape(-1,1)\n",
    "# x_test_lm = x_test_lm.values.reshape(-1,1)\n",
    "\n",
    "# print(x_train_lm.shape)\n",
    "# print(x_test_lm.shape)\n",
    "\n",
    "# # Creating an object of Linear Regression\n",
    "# lm = LinearRegression()\n",
    "\n",
    "# # Fit the model using .fit() method\n",
    "# lm.fit(x_train_lm, y_train_lm)\n",
    "\n",
    "# # Intercept value\n",
    "# print(\"Intercept :\",lm.intercept_)\n",
    "\n",
    "# # Slope value\n",
    "# print('Slope :',lm.coef_)"
   ]
  },
  {
   "cell_type": "markdown",
   "metadata": {
    "azdata_cell_guid": "c021f50d-92b2-4359-b3a9-c47f62f0a94f"
   },
   "source": [
    "## Error Terms\n",
    "\n",
    "Finally, plot your error terms!"
   ]
  },
  {
   "cell_type": "code",
   "execution_count": 35,
   "metadata": {
    "azdata_cell_guid": "87480c6c-1bb6-4135-953a-c74ba3da518d"
   },
   "outputs": [],
   "source": [
    "# Predicting y_value using training data of X\n",
    "y_train_pred = lr.predict(x_train_sm)\n",
    "\n",
    "# Creating residuals from the y_train data and predicted y_data\n",
    "res = (y_train - y_train_pred)"
   ]
  },
  {
   "cell_type": "code",
   "execution_count": 36,
   "metadata": {},
   "outputs": [
    {
     "data": {
      "text/plain": [
       "<AxesSubplot:ylabel='Density'>"
      ]
     },
     "execution_count": 36,
     "metadata": {},
     "output_type": "execute_result"
    },
    {
     "data": {
      "text/plain": [
       "Text(0.5, 1.0, 'Error Terms')"
      ]
     },
     "execution_count": 36,
     "metadata": {},
     "output_type": "execute_result"
    },
    {
     "data": {
      "text/plain": [
       "Text(0.5, 0, 'y_train - y_train_pred')"
      ]
     },
     "execution_count": 36,
     "metadata": {},
     "output_type": "execute_result"
    },
    {
     "data": {
      "image/png": "[encoded data removed]",
      "text/plain": [
       "<Figure size 432x288 with 1 Axes>"
      ]
     },
     "metadata": {
      "needs_background": "light"
     },
     "output_type": "display_data"
    }
   ],
   "source": [
    "# Plotting the histogram using the residual values to see whether it looks like normal distribution or not.\n",
    "fig = plt.figure()\n",
    "sns.distplot(res, bins = 15)\n",
    "plt.title('Error Terms', fontsize = 15)\n",
    "plt.xlabel('y_train - y_train_pred', fontsize = 15)\n",
    "plt.show()"
   ]
  },
  {
   "cell_type": "code",
   "execution_count": 37,
   "metadata": {},
   "outputs": [
    {
     "data": {
      "text/plain": [
       "<matplotlib.collections.PathCollection at 0x16aed0156a0>"
      ]
     },
     "execution_count": 37,
     "metadata": {},
     "output_type": "execute_result"
    },
    {
     "data": {
      "image/png": "[encoded data removed]",
      "text/plain": [
       "<Figure size 432x288 with 1 Axes>"
      ]
     },
     "metadata": {
      "needs_background": "light"
     },
     "output_type": "display_data"
    }
   ],
   "source": [
    "# Looking for any patterns in the residuals\n",
    "plt.scatter(x_train,res)\n",
    "plt.show()"
   ]
  },
  {
   "cell_type": "markdown",
   "metadata": {},
   "source": [
    "**Evaluate the model**"
   ]
  },
  {
   "cell_type": "code",
   "execution_count": 38,
   "metadata": {},
   "outputs": [
    {
     "data": {
      "text/plain": [
       "185    22988.948715\n",
       "178     3169.551748\n",
       "120     3169.052047\n",
       "214     2576.988049\n",
       "69     15120.800737\n",
       "           ...     \n",
       "111    11825.146703\n",
       "197     2818.111074\n",
       "174     2336.004475\n",
       "196    44983.182637\n",
       "177    11234.314525\n",
       "Length: 68, dtype: float64"
      ]
     },
     "execution_count": 38,
     "metadata": {},
     "output_type": "execute_result"
    }
   ],
   "source": [
    "# Adding a constant to X_test\n",
    "x_test_sm = sm.add_constant(x_test)\n",
    "\n",
    "# Predicting the y values corresponding to X_test_sm\n",
    "y_test_pred = lr.predict(x_test_sm)\n",
    "\n",
    "# Printing the first 15 predicted values\n",
    "y_test_pred"
   ]
  },
  {
   "cell_type": "code",
   "execution_count": 39,
   "metadata": {},
   "outputs": [
    {
     "data": {
      "text/plain": [
       "0.46800554173351105"
      ]
     },
     "execution_count": 39,
     "metadata": {},
     "output_type": "execute_result"
    }
   ],
   "source": [
    "#calculate the R² value for the above-predicted y-values.\n",
    "# Importing r2_square\n",
    "from sklearn.metrics import r2_score\n",
    "\n",
    "# Checking the R-squared value\n",
    "r_squared = r2_score(y_test, y_test_pred)\n",
    "r_squared"
   ]
  },
  {
   "cell_type": "markdown",
   "metadata": {},
   "source": [
    "The R² value on test data = 0.468\n",
    "\n",
    "With the training data, the R² value = 0.818\n",
    "\n",
    "Since the R² value on test data is approximately within 35% of the R² value on training data, we can conclude that the model is not stable enough for generalization. The test data shows you how well your model has generalized."
   ]
  },
  {
   "cell_type": "markdown",
   "metadata": {
    "azdata_cell_guid": "5fc50d24-c873-4801-87f2-a1e518caf424"
   },
   "source": [
    "## Summarize Your Work\n",
    "\n",
    "Make notes of your answers to the questions below.\n",
    "\n",
    "1. What was your R-squared value? 0.818 on training data. However (R2 test< R2 training) meaning that this model does not generalize well.\n",
    "\n",
    "2. Based on your results, do you think a linear regression model was the best type of predictive analysis for your dataset? \n",
    "\n",
    "It was not particularly effective in this case.\n",
    "\n",
    "After Performing a summary to list out all the different parameters of the regression -lr.summary(), it was noted that:\n",
    "\n",
    "\"The condition number is large, 9.82e+06. This might indicate that there are\n",
    "strong multicollinearity or other numerical problems.\"\n",
    "\n",
    "Multicollinearity indicates that independent variables in the regression model are highly correlated to each other, making interpretation of the model diffcult. When independent variables are highly correlated, change in one variable would cause change to another making model results unstable and prone to variation with small changes in data.\n",
    "\n",
    "Explanation source: [Multicollinearity in Regression-Why it is a problem? How to check and fix it (https://towardsdatascience.com/multi-collinearity-in-regression-fe7a2c1467ea)\n",
    "\n",
    "\n",
    "3. Was your plot of the error terms a bell curve? Yes, the plot was Somewhat bell shaped."
   ]
  },
  {
   "cell_type": "code",
   "execution_count": null,
   "metadata": {},
   "outputs": [],
   "source": []
  }
 ],
 "metadata": {
  "kernelspec": {
   "display_name": "Python 3 (ipykernel)",
   "language": "python",
   "name": "python3"
  },
  "language_info": {
   "codemirror_mode": {
    "name": "ipython",
    "version": 3
   },
   "file_extension": ".py",
   "mimetype": "text/x-python",
   "name": "python",
   "nbconvert_exporter": "python",
   "pygments_lexer": "ipython3",
   "version": "3.9.12"
  }
 },
 "nbformat": 4,
 "nbformat_minor": 2
}
